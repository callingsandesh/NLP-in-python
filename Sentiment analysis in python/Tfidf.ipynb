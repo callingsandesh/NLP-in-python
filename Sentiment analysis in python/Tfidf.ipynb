{
 "cells": [
  {
   "cell_type": "code",
   "execution_count": 4,
   "id": "c10532c7",
   "metadata": {},
   "outputs": [],
   "source": [
    "import pandas as pd\n",
    "import numpy as np"
   ]
  },
  {
   "cell_type": "code",
   "execution_count": 2,
   "id": "88213c5c",
   "metadata": {},
   "outputs": [
    {
     "name": "stdout",
     "output_type": "stream",
     "text": [
      "[[0.4472136  0.4472136  0.4472136  0.         0.4472136  0.\n",
      "  0.4472136  0.         0.         0.         0.         0.\n",
      "  0.        ]\n",
      " [0.         0.         0.         0.30151134 0.         0.30151134\n",
      "  0.         0.30151134 0.30151134 0.30151134 0.30151134 0.60302269\n",
      "  0.30151134]]\n"
     ]
    }
   ],
   "source": [
    "# Import the required function\n",
    "from sklearn.feature_extraction.text import TfidfVectorizer\n",
    "\n",
    "annak = ['Happy families are all alike;', 'every unhappy family is unhappy in its own way']\n",
    "\n",
    "# Call the vectorizer and fit it\n",
    "anna_vect = TfidfVectorizer().fit(annak)\n",
    "\n",
    "# Create the tfidf representation\n",
    "anna_tfidf = anna_vect.transform(annak)\n",
    "\n",
    "# Print the result \n",
    "print(anna_tfidf.toarray())"
   ]
  },
  {
   "cell_type": "markdown",
   "id": "360fb468",
   "metadata": {},
   "source": [
    "## TfIdf on Twitter airline sentiment data"
   ]
  },
  {
   "cell_type": "code",
   "execution_count": 5,
   "id": "69471427",
   "metadata": {},
   "outputs": [],
   "source": [
    "tweets_raw = pd.read_csv('tweets.csv')"
   ]
  },
  {
   "cell_type": "code",
   "execution_count": 11,
   "id": "a06f9816",
   "metadata": {},
   "outputs": [],
   "source": [
    "tweets=tweets_raw.copy()"
   ]
  },
  {
   "cell_type": "code",
   "execution_count": 13,
   "id": "a876bc40",
   "metadata": {},
   "outputs": [
    {
     "name": "stdout",
     "output_type": "stream",
     "text": [
      "Top 5 rows of the DataFrame:      aa  agent  airline  airport  americanair       amp  bag  baggage  bags  \\\n",
      "0  0.0    0.0      0.0      0.0          0.0  0.000000  0.0      0.0   0.0   \n",
      "1  0.0    0.0      0.0      0.0          0.0  0.000000  0.0      0.0   0.0   \n",
      "2  0.0    0.0      0.0      0.0          0.0  0.000000  0.0      0.0   0.0   \n",
      "3  0.0    0.0      0.0      0.0          0.0  0.537247  0.0      0.0   0.0   \n",
      "4  0.0    0.0      0.0      0.0          0.0  0.000000  0.0      0.0   0.0   \n",
      "\n",
      "   cancelled  ...        ve  virginamerica  wait  waiting  want  way  weather  \\\n",
      "0        0.0  ...  0.000000       1.000000   0.0      0.0   0.0  0.0      0.0   \n",
      "1        0.0  ...  0.544485       0.531770   0.0      0.0   0.0  0.0      0.0   \n",
      "2        0.0  ...  0.000000       0.407271   0.0      0.0   0.0  0.0      0.0   \n",
      "3        0.0  ...  0.000000       0.559828   0.0      0.0   0.0  0.0      0.0   \n",
      "4        0.0  ...  0.000000       0.663756   0.0      0.0   0.0  0.0      0.0   \n",
      "\n",
      "   work  worst  yes  \n",
      "0   0.0    0.0  0.0  \n",
      "1   0.0    0.0  0.0  \n",
      "2   0.0    0.0  0.0  \n",
      "3   0.0    0.0  0.0  \n",
      "4   0.0    0.0  0.0  \n",
      "\n",
      "[5 rows x 100 columns]\n"
     ]
    }
   ],
   "source": [
    "# Import the required vectorizer package and stop words list\n",
    "from sklearn.feature_extraction.text import TfidfVectorizer, ENGLISH_STOP_WORDS\n",
    "\n",
    "# Define the vectorizer and specify the arguments\n",
    "my_pattern = r'\\b[^\\d\\W][^\\d\\W]+\\b'\n",
    "vect = TfidfVectorizer(ngram_range=(1,2), max_features=100, token_pattern=my_pattern, stop_words=ENGLISH_STOP_WORDS).fit(tweets.text)\n",
    "\n",
    "# Transform the vectorizer\n",
    "X_txt = vect.transform(tweets.text)\n",
    " \n",
    "# Transform to a data frame and specify the column names\n",
    "X=pd.DataFrame(X_txt.toarray(), columns=vect.get_feature_names())\n",
    "print('Top 5 rows of the DataFrame: ', X.head())"
   ]
  },
  {
   "cell_type": "markdown",
   "id": "6ce42391",
   "metadata": {},
   "source": [
    "## Tfidf and a BOW on same data(amazon review of product)"
   ]
  },
  {
   "cell_type": "code",
   "execution_count": 15,
   "id": "d6c674a0",
   "metadata": {},
   "outputs": [],
   "source": [
    "import pandas as pd\n",
    "reviews = pd.read_csv('amazon_reviews_sample.csv')"
   ]
  },
  {
   "cell_type": "code",
   "execution_count": 16,
   "id": "71b3f121",
   "metadata": {},
   "outputs": [
    {
     "name": "stdout",
     "output_type": "stream",
     "text": [
      "Top 5 rows, using BOW: \n",
      "    about  after  all  also  am  an  and  any  are  as  ...  what  when  which  \\\n",
      "0      0      0    1     0   0   0    2    0    0   0  ...     0     0      0   \n",
      "1      0      0    0     0   0   0    3    1    1   0  ...     0     0      0   \n",
      "2      0      0    3     0   0   1    4    0    1   1  ...     0     0      1   \n",
      "3      0      0    0     0   0   0    9    0    1   0  ...     0     0      0   \n",
      "4      0      1    0     0   0   0    3    0    1   0  ...     0     0      0   \n",
      "\n",
      "   who  will  with  work  would  you  your  \n",
      "0    2     0     1     0      2    0     1  \n",
      "1    0     0     0     0      1    1     0  \n",
      "2    1     0     0     1      1    2     0  \n",
      "3    0     0     0     0      0    0     0  \n",
      "4    0     0     0     0      0    3     1  \n",
      "\n",
      "[5 rows x 100 columns]\n",
      "Top 5 rows using tfidf: \n",
      "    about     after       all  also   am       an       and       any  \\\n",
      "0    0.0  0.000000  0.138970   0.0  0.0  0.00000  0.140823  0.000000   \n",
      "1    0.0  0.000000  0.000000   0.0  0.0  0.00000  0.191572  0.175388   \n",
      "2    0.0  0.000000  0.285009   0.0  0.0  0.10526  0.192539  0.000000   \n",
      "3    0.0  0.000000  0.000000   0.0  0.0  0.00000  0.554705  0.000000   \n",
      "4    0.0  0.174214  0.000000   0.0  0.0  0.00000  0.197188  0.000000   \n",
      "\n",
      "        are        as  ...  what  when    which       who  will      with  \\\n",
      "0  0.000000  0.000000  ...   0.0   0.0  0.00000  0.351952   0.0  0.113371   \n",
      "1  0.116940  0.000000  ...   0.0   0.0  0.00000  0.000000   0.0  0.000000   \n",
      "2  0.088148  0.090385  ...   0.0   0.0  0.13013  0.120301   0.0  0.000000   \n",
      "3  0.112868  0.000000  ...   0.0   0.0  0.00000  0.000000   0.0  0.000000   \n",
      "4  0.120369  0.000000  ...   0.0   0.0  0.00000  0.000000   0.0  0.000000   \n",
      "\n",
      "       work     would       you      your  \n",
      "0  0.000000  0.306757  0.000000  0.175024  \n",
      "1  0.000000  0.139101  0.106279  0.000000  \n",
      "2  0.139218  0.104853  0.160223  0.000000  \n",
      "3  0.000000  0.000000  0.000000  0.000000  \n",
      "4  0.000000  0.000000  0.328184  0.163385  \n",
      "\n",
      "[5 rows x 100 columns]\n"
     ]
    }
   ],
   "source": [
    "# Import the required packages\n",
    "from sklearn.feature_extraction.text import CountVectorizer, TfidfVectorizer\n",
    "\n",
    "# Build a BOW and tfidf vectorizers from the review column and with max of 100 features\n",
    "vect1 = CountVectorizer(max_features=100).fit(reviews.review)\n",
    "vect2 = TfidfVectorizer(max_features=100).fit(reviews.review)\n",
    "\n",
    "# Transform the vectorizers\n",
    "X1 = vect1.transform(reviews.review)\n",
    "X2 = vect2.transform(reviews.review)\n",
    "# Create DataFrames from the vectorizers\n",
    "X_df1 = pd.DataFrame(X1.toarray(), columns=vect1.get_feature_names())\n",
    "X_df2 = pd.DataFrame(X2.toarray(), columns=vect2.get_feature_names())\n",
    "print('Top 5 rows, using BOW: \\n', X_df1.head())\n",
    "print('Top 5 rows using tfidf: \\n', X_df2.head())"
   ]
  },
  {
   "cell_type": "code",
   "execution_count": null,
   "id": "84438cd7",
   "metadata": {},
   "outputs": [],
   "source": []
  }
 ],
 "metadata": {
  "kernelspec": {
   "display_name": "Python 3",
   "language": "python",
   "name": "python3"
  },
  "language_info": {
   "codemirror_mode": {
    "name": "ipython",
    "version": 3
   },
   "file_extension": ".py",
   "mimetype": "text/x-python",
   "name": "python",
   "nbconvert_exporter": "python",
   "pygments_lexer": "ipython3",
   "version": "3.8.5"
  }
 },
 "nbformat": 4,
 "nbformat_minor": 5
}
